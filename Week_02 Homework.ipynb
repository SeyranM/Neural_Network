{
 "cells": [
  {
   "cell_type": "markdown",
   "metadata": {
    "id": "7_Z6CeoflLyy"
   },
   "source": [
    "# Homework *week2*"
   ]
  },
  {
   "cell_type": "markdown",
   "metadata": {
    "id": "xFi4rHSGlLy3"
   },
   "source": [
    "Դիցուք ունենք supervised learning-ի հետևյալ խնդիրը:"
   ]
  },
  {
   "cell_type": "markdown",
   "metadata": {
    "id": "T0_6FA1XlLy4"
   },
   "source": [
    "Մեզ տրված են երկու տեսակ ծաղիկների (A և B) վերաբերյալ տվյալներ (ցողունի բարձրություն ($x_1$) և պսակի տրամագիծ($x_2$)): Քանի որ խնդիրը supervised learning-ի է, հետևաբար նաև ունենք ծաղիկների label-ները՝ Y:\n",
    "<br>Մեր խնդիրն է ունենալ այնպիսի մոդել, որին ինչ-որ ծաղիկի X-երը տանք, այն մեզ ասի, թե ծաղիկը A տեսակի է, թե B (կամ, որ նույնն է, մեզ ասի ծաղիկը A տեսակի է, թե ոչ):"
   ]
  },
  {
   "cell_type": "code",
   "execution_count": 1,
   "metadata": {
    "id": "GLF0QtVylLy5"
   },
   "outputs": [],
   "source": [
    "import numpy as np\n",
    "import matplotlib.pyplot as plt"
   ]
  },
  {
   "cell_type": "code",
   "execution_count": 2,
   "metadata": {
    "id": "V5Vaf7gjlLy7"
   },
   "outputs": [],
   "source": [
    "# մեր տվյալներն են, ունենք 7 ծաղիկ` 4-ը A, 3-ը B\n",
    "\n",
    "X = np.array([[26.86,  6.86],\n",
    "               [29.48,  8.57],\n",
    "               [29.63,  8.01],\n",
    "               [33.74,  7.  ],\n",
    "               [18.54,  6.97],\n",
    "               [15.98,  5.69],\n",
    "               [19.01,  4.5 ]])\n",
    "\n",
    "\n",
    "Y = np.array([[\"A\"],\n",
    "              [\"A\"],\n",
    "              [\"A\"],\n",
    "              [\"A\"],\n",
    "              [\"B\"],\n",
    "              [\"B\"],\n",
    "              [\"B\"],])"
   ]
  },
  {
   "cell_type": "code",
   "execution_count": 3,
   "metadata": {
    "id": "Fylv5CpelLy8"
   },
   "outputs": [],
   "source": [
    "#Նորմավորենք X-երը\n",
    "X[:,0] -= np.mean(X[:,0])\n",
    "X[:,1] -= np.mean(X[:,1])\n",
    "\n",
    "X[:,0] /= np.var(X[:,0])\n",
    "X[:,1] /= np.var(X[:,1])"
   ]
  },
  {
   "cell_type": "markdown",
   "metadata": {
    "id": "52mRnFhHlLy9"
   },
   "source": [
    "Y-ները կարող ենք կոդավորել 1-երով ու 0-ներով (one-hot encoding), այսինքն՝ դարձնենք 7x2-չափանի մատրից: Յուրաքանչյուր տողում մեկ հատ 1, մեկ հատ 0: Եթե առաջին սյունում 1 է, ապա ծաղիկը A է և ընդհակառակը: "
   ]
  },
  {
   "cell_type": "code",
   "execution_count": 4,
   "metadata": {
    "id": "idFPKL8ZlLy-"
   },
   "outputs": [],
   "source": [
    "Y = np.array ([[1,0] if i[0]==\"A\" else [0,1] for i in Y])"
   ]
  },
  {
   "cell_type": "code",
   "execution_count": 5,
   "metadata": {
    "id": "tldqDJd6lLy_",
    "outputId": "38448be9-08a4-4367-e9e0-3413e0150b89"
   },
   "outputs": [
    {
     "data": {
      "text/plain": [
       "array([[1, 0],\n",
       "       [1, 0],\n",
       "       [1, 0],\n",
       "       [1, 0],\n",
       "       [0, 1],\n",
       "       [0, 1],\n",
       "       [0, 1]])"
      ]
     },
     "execution_count": 5,
     "metadata": {},
     "output_type": "execute_result"
    }
   ],
   "source": [
    "Y"
   ]
  },
  {
   "cell_type": "markdown",
   "metadata": {
    "id": "yJJ83vkMlLzA"
   },
   "source": [
    "Պատկերենք ծաղիկները ըստ $x_1$ և $x_2$-ի:"
   ]
  },
  {
   "cell_type": "code",
   "execution_count": 6,
   "metadata": {
    "colab": {
     "base_uri": "https://localhost:8080/",
     "height": 279
    },
    "executionInfo": {
     "elapsed": 296,
     "status": "ok",
     "timestamp": 1633641546124,
     "user": {
      "displayName": "Ani Muradyan",
      "photoUrl": "https://lh3.googleusercontent.com/a/default-user=s64",
      "userId": "09041185204490015290"
     },
     "user_tz": -240
    },
    "id": "sSiHjINvlLzB",
    "outputId": "bf73204c-15f4-4e38-c48a-5af5923ca02c",
    "scrolled": true
   },
   "outputs": [
    {
     "data": {
      "image/png": "[encoded data removed]",
      "text/plain": [
       "<Figure size 432x288 with 1 Axes>"
      ]
     },
     "metadata": {
      "needs_background": "light"
     },
     "output_type": "display_data"
    }
   ],
   "source": [
    "plt.scatter(X[:,0],X[:,1], c = Y[:,0])\n",
    "plt.xlabel(\"x1\")\n",
    "plt.ylabel(\"x2\")\n",
    "plt.show()"
   ]
  },
  {
   "cell_type": "markdown",
   "metadata": {
    "id": "B-NIpIyxlLzC"
   },
   "source": [
    " "
   ]
  },
  {
   "cell_type": "markdown",
   "metadata": {
    "id": "k-vTaZnulLzC"
   },
   "source": [
    " "
   ]
  },
  {
   "cell_type": "markdown",
   "metadata": {
    "id": "aNH4TfsglLzC"
   },
   "source": [
    " "
   ]
  },
  {
   "cell_type": "markdown",
   "metadata": {
    "id": "FXK4JFIxlLzD"
   },
   "source": [
    "## Առաջադրանք N1"
   ]
  },
  {
   "cell_type": "markdown",
   "metadata": {
    "id": "oUh7ahn_lLzD"
   },
   "source": [
    "__Կառուցել մեր խնդրին համապատասխան նեյրոնային ցանցը:__"
   ]
  },
  {
   "cell_type": "markdown",
   "metadata": {
    "id": "58aqbd8_lLzD"
   },
   "source": [
    "-  Ակնհայտ է, որ այն պետք է ունենա 2 հատ input ($x_1$ և $x_2$-ին համապատասխան) և երկու հատ output ($y_1$ և $y_2$), որոնցից առաջինը ցույց է տալու տվյալ ծաղիկի՝ A լինելու հավանականությունը, երկրորդը՝ B լինելու հավանականությունը: Output-ները գտնվելու են (0,1) միջակայքում և երկուսի գումարը պարտադիր չէ, որ լինի 1: \n",
    "-  Ցանցը պետք է ունենա 1 հատ hidden layer 4 նեյրոնով, այսինքն՝ ցանցի կառուցվածքը լինում է 2-4-2:\n",
    "-  Ցանցում բոլոր ոչ գծային գործողությունները սիգմոիդ են: \n",
    "-  Ցանցի առաջին շերտի պարամետրերի մատրիցները (W-երը և b-երը) հետևյալն են՝"
   ]
  },
  {
   "cell_type": "code",
   "execution_count": 7,
   "metadata": {
    "id": "3QHqrleTlLzD"
   },
   "outputs": [],
   "source": [
    "W1 = np.array([[ 0.51,  0.41],\n",
    "               [ 0.34,  0.24],\n",
    "               [ 0.25, -0.14],\n",
    "               [-0.62, -0.42]])\n",
    "\n",
    "b1 = np.array([-0.65,  0.27,  0.58,  0.16])"
   ]
  },
  {
   "cell_type": "markdown",
   "metadata": {
    "id": "XKTe4c1TlLzE"
   },
   "source": [
    "W1-ի (i,j)-րդ տարրը ցույց է տալիս j-րդ input-ից hidden layer-ի i-րդ նեյրոն կշիռը:"
   ]
  },
  {
   "cell_type": "markdown",
   "metadata": {
    "id": "aOV5jx9IlLzE"
   },
   "source": [
    "-  Ցանցի երկրորդ շերտի պարամետրերի մատրիցները (W-երը և b-երը) հետևյալն են՝"
   ]
  },
  {
   "cell_type": "code",
   "execution_count": 8,
   "metadata": {
    "id": "iKhIFvbDlLzE"
   },
   "outputs": [],
   "source": [
    "W2 = np.array([[-0.41, -0.38,  0.22,  0.1 ],\n",
    "            [-0.16,  0.3 ,  0.02,  0.03]])\n",
    "\n",
    "b2 = np.array([0.49, 0.41])"
   ]
  },
  {
   "cell_type": "markdown",
   "metadata": {
    "id": "4WLDx8uNlLzF"
   },
   "source": [
    "Ցանցը գծեք թղթի վրա (հիմք ընդունելով ոչ թե input-hidden-output բաժանումը, այլ մաթեմատիկական գործողությունները՝ գծային և ոչ գծային) ու նկարը ուղարկեք ինձ:"
   ]
  },
  {
   "cell_type": "markdown",
   "metadata": {
    "id": "jlckWDR5lLzF"
   },
   "source": [
    "## Առաջադրանք N2"
   ]
  },
  {
   "cell_type": "markdown",
   "metadata": {
    "id": "3jMeAteNlLzF"
   },
   "source": [
    "__Հաշվել առաջին ծաղիկի համար ([ 0.05280758,  0.03752815]) մեր ցանցի output-ները:__"
   ]
  },
  {
   "cell_type": "markdown",
   "metadata": {
    "id": "aj_8mBB5lLzF"
   },
   "source": [
    "###### X"
   ]
  },
  {
   "cell_type": "markdown",
   "metadata": {
    "id": "64wsG7HQlLzG"
   },
   "source": [
    "<font color='Green'>Հուշում.</font> hidden layer-ում և output layer-ում երկու մաթեմատիկական ձևափոխություն է տեղի ունենում՝ մեկ գծային և մեկ ոչ գծային: Գծայինի դեպքում արդյունքները սովորաբար նշանակում ենք z-ով, իսկ ոչ գծայինի արդյունքները՝ a-ով (activation):"
   ]
  },
  {
   "cell_type": "code",
   "execution_count": 285,
   "metadata": {
    "id": "NSrycd10lLzG"
   },
   "outputs": [],
   "source": [
    "def hidden(input_):\n",
    "#     if len(input_.shape) == 2:\n",
    "#         input_ = input_.T\n",
    "    Z1 = np.dot(input_, W1.T) + b1\n",
    "    A1 = 1/(1+np.exp(-Z1))\n",
    "    return A1\n",
    "\n",
    "def output(input_):\n",
    "    Z2 = np.dot(input_, W2.T) + b2\n",
    "    A2 = 1/(1+np.exp(-Z2))\n",
    "    return A2\n",
    "\n",
    "def forward(input_):\n",
    "    return output(hidden(input_))"
   ]
  },
  {
   "cell_type": "code",
   "execution_count": 286,
   "metadata": {},
   "outputs": [
    {
     "data": {
      "text/plain": [
       "array([0.57972736, 0.63515327])"
      ]
     },
     "execution_count": 286,
     "metadata": {},
     "output_type": "execute_result"
    }
   ],
   "source": [
    "forward(X[0])"
   ]
  },
  {
   "cell_type": "markdown",
   "metadata": {
    "id": "aoN7-nkPlLzG"
   },
   "source": [
    "## Առաջադրանք N3"
   ]
  },
  {
   "cell_type": "markdown",
   "metadata": {
    "id": "R_kP0C_ulLzG"
   },
   "source": [
    " __Հաշվել առաջին ծաղիկի համար մեր ցանցի Loss-ը:__"
   ]
  },
  {
   "cell_type": "markdown",
   "metadata": {
    "id": "tO6d_ETKlLzH"
   },
   "source": [
    "<font color='Green'>Հուշում.</font> Օգտագործել Mean squared error loss-ը՝ հետևյալ բանաձևով՝"
   ]
  },
  {
   "cell_type": "markdown",
   "metadata": {
    "id": "GlQ-vU3vlLzH"
   },
   "source": [
    "$L = \\dfrac{1}{2} \\sum_{n=1}^{2} (a_i - y_i)^2$"
   ]
  },
  {
   "cell_type": "markdown",
   "metadata": {
    "id": "WE6Tv-b-lLzH"
   },
   "source": [
    "որտեղ $a_i$-ն output layer-ի i-րդ նեյրոնի ակտիվացիայի արժեքն է, իսկ $y_i$-ն իրական y-ի i-րդ արժեքը: <br>Քանի որ ունենք երկու output նեյրոն, հետևաբար երկու հատ գումարելի կա գումարում: "
   ]
  },
  {
   "cell_type": "code",
   "execution_count": 305,
   "metadata": {
    "id": "O3-g8a0elLzH"
   },
   "outputs": [],
   "source": [
    "def loss(output, y_real):\n",
    "    L2 = 1/2 * np.sum(np.square(output - y_real))\n",
    "    return L2"
   ]
  },
  {
   "cell_type": "code",
   "execution_count": 306,
   "metadata": {},
   "outputs": [
    {
     "data": {
      "text/plain": [
       "0.2900243840368458"
      ]
     },
     "execution_count": 306,
     "metadata": {},
     "output_type": "execute_result"
    }
   ],
   "source": [
    "loss(forward(X[0]), Y[0])"
   ]
  },
  {
   "cell_type": "markdown",
   "metadata": {
    "id": "WM0wEvyBlLzH"
   },
   "source": [
    "## Առաջադրանք N4"
   ]
  },
  {
   "cell_type": "markdown",
   "metadata": {
    "id": "gvhD4w03lLzI"
   },
   "source": [
    "__Հաշվել երկրորդ ծաղիկի համար մեր ցանցի output-ները և Loss-ը:__"
   ]
  },
  {
   "cell_type": "code",
   "execution_count": 307,
   "metadata": {
    "id": "0a5IlS_LlLzI"
   },
   "outputs": [
    {
     "data": {
      "text/plain": [
       "array([0.55746405, 0.63457427])"
      ]
     },
     "execution_count": 307,
     "metadata": {},
     "output_type": "execute_result"
    }
   ],
   "source": [
    "forward(X[1])"
   ]
  },
  {
   "cell_type": "code",
   "execution_count": 308,
   "metadata": {},
   "outputs": [
    {
     "data": {
      "text/plain": [
       "0.2992612872401182"
      ]
     },
     "execution_count": 308,
     "metadata": {},
     "output_type": "execute_result"
    }
   ],
   "source": [
    "loss(forward(X[1]), Y[1])"
   ]
  },
  {
   "cell_type": "markdown",
   "metadata": {
    "id": "QIGijvMvlLzI"
   },
   "source": [
    "## Առաջադրանք N5**"
   ]
  },
  {
   "cell_type": "markdown",
   "metadata": {
    "id": "mP36UAYllLzI"
   },
   "source": [
    "__Հաշվել բոլոր ծաղիկների համար մեր ցանցի output-ները և ցանցի loss-ը՝ օգտագործելով մատրիցային գործողություններ:__"
   ]
  },
  {
   "cell_type": "markdown",
   "metadata": {
    "id": "VkO9q8vNlLzI"
   },
   "source": [
    "<font color='Green'>Հուշում.</font> Մատրիցայինի դեպքում մենք ցանցին փոխանցում ենք միանգամից բոլոր ծաղիկների ինֆորմացիան, այսինքն՝ X մատրիցն ամբողջությամբ:\n",
    "-  Այս դեպքում ցանցին փոխանցում ենք 7x2 մատրից, համապատասխանաբար hidden layer-ում մենք ունենում ենք 7x4 նեյրոններ, իսկ output layer-ում 7x2 output նեյրոններ: W-ների ու b-երի քանակը նույնն է:\n",
    "-  Ցանցի loss-ը լինում է բոլոր 7 ծաղիկների համար հաշվարկված loss-երի միջինը:"
   ]
  },
  {
   "cell_type": "code",
   "execution_count": 309,
   "metadata": {
    "id": "Tdin_AaLlLzJ"
   },
   "outputs": [
    {
     "data": {
      "text/plain": [
       "array([[0.57972736, 0.63515327],\n",
       "       [0.55746405, 0.63457427],\n",
       "       [0.56431651, 0.63483319],\n",
       "       [0.57456501, 0.63521552],\n",
       "       [0.58255359, 0.63498593],\n",
       "       [0.59824359, 0.63480265],\n",
       "       [0.60925585, 0.63445836]])"
      ]
     },
     "execution_count": 309,
     "metadata": {},
     "output_type": "execute_result"
    }
   ],
   "source": [
    "out = forward(X)\n",
    "out"
   ]
  },
  {
   "cell_type": "code",
   "execution_count": 310,
   "metadata": {},
   "outputs": [
    {
     "data": {
      "text/plain": [
       "1.9122900709399668"
      ]
     },
     "execution_count": 310,
     "metadata": {},
     "output_type": "execute_result"
    }
   ],
   "source": [
    "loss(out, Y)"
   ]
  },
  {
   "cell_type": "code",
   "execution_count": null,
   "metadata": {},
   "outputs": [],
   "source": []
  }
 ],
 "metadata": {
  "colab": {
   "name": "Week_02 Homework.ipynb",
   "provenance": []
  },
  "kernelspec": {
   "display_name": "Python 3",
   "language": "python",
   "name": "python3"
  },
  "language_info": {
   "codemirror_mode": {
    "name": "ipython",
    "version": 3
   },
   "file_extension": ".py",
   "mimetype": "text/x-python",
   "name": "python",
   "nbconvert_exporter": "python",
   "pygments_lexer": "ipython3",
   "version": "3.7.3"
  }
 },
 "nbformat": 4,
 "nbformat_minor": 1
}
